{
 "cells": [
  {
   "cell_type": "code",
   "execution_count": 1,
   "metadata": {},
   "outputs": [],
   "source": [
    "import abc\n",
    "\n",
    "import numpy as np"
   ]
  },
  {
   "cell_type": "code",
   "execution_count": 2,
   "metadata": {},
   "outputs": [],
   "source": [
    "class Graph(abc.ABC):\n",
    "    def __init__(self, num_vertices, directed=False):\n",
    "        self.num_vertices = num_vertices\n",
    "        self.directed = directed\n",
    "        \n",
    "    @abc.abstractmethod\n",
    "    def add_edge(self, v1, v2, weight):\n",
    "        pass\n",
    "    \n",
    "    @abc.abstractmethod\n",
    "    def remove_edge(self, v1, v2, weight):\n",
    "        pass\n",
    "    \n",
    "    @abc.abstractmethod\n",
    "    def get_adjacent_vertice(self, v):\n",
    "        pass\n",
    "    \n",
    "    @abc.abstractmethod\n",
    "    def is_adjacent(self, v1, v2):\n",
    "        pass\n",
    "    \n",
    "    @abc.abstractmethod\n",
    "    def get_indegree(self, v):\n",
    "        pass\n",
    "    \n",
    "    @abc.abstractmethod\n",
    "    def get_edge_weight(self, v1, v2):\n",
    "        pass\n",
    "    \n",
    "    @abc.abstractmethod\n",
    "    def show(self):\n",
    "        pass"
   ]
  },
  {
   "cell_type": "code",
   "execution_count": 4,
   "metadata": {},
   "outputs": [],
   "source": [
    "class Vertex:\n",
    "    def __init__(self, id):\n",
    "        self.id = id\n",
    "        self.adjacency_set = set()\n",
    "        \n",
    "    def add_edge(self, v):\n",
    "        if self.id == v:\n",
    "            raise ValueError(\"The vertex %d vannot be adjacent to itselft\" % v)\n",
    "        self.adjacency_set.add(v)\n",
    "    \n",
    "    def remove_edge(self, v):\n",
    "        if self.id == v:\n",
    "            raise ValueError(\"The vertex %d vannot be adjacent to itselft\" % v)\n",
    "        self.adjacency_set.remove(v)\n",
    "        \n",
    "    def get_adjacent_vertices(self):\n",
    "        return sorted(self.adjacency_set)\n",
    "    \n",
    "    def is_adjacent(self, v):\n",
    "        return v in self.adjacency_set"
   ]
  },
  {
   "cell_type": "code",
   "execution_count": 32,
   "metadata": {},
   "outputs": [],
   "source": [
    "class AdjacencySetGraph(Graph):\n",
    "    \n",
    "    def __init__(self, num_vertices, directed=False):\n",
    "        super(AdjacencySetGraph, self).__init__(num_vertices, directed)\n",
    "        \n",
    "        self.vertex_list = []\n",
    "        for i in range(num_vertices):\n",
    "            v = Vertex(i)\n",
    "            \n",
    "            self.vertex_list.append(v)\n",
    "            \n",
    "    def add_edge(self, v1, v2, weight=1):\n",
    "        if v1>= self.num_vertices or v2 >= self.num_vertices or v1<0 or v2<0:\n",
    "            raise ValueError(\"Vertices %d and %d are out of bounds\" % (v1, v2))\n",
    "            \n",
    "        if weight != 1:\n",
    "            raise ValueError(\"An adjacency set cannot represent edge weight > 1\")\n",
    "        self.vertex_list[v1].add_edge(v2)\n",
    "        \n",
    "        if self.directed == False:\n",
    "            self.vertex_list[v2].add_edge(v1)\n",
    "            \n",
    "    def remove_edge(self, v1, v2):\n",
    "        if v1>= self.num_vertices or v2 >= self.num_vertices or v1<0 or v2<0:\n",
    "            raise ValueError(\"Vertices %d and %d are out of bounds\" % (v1, v2))\n",
    "            \n",
    "        self.vertex_list[v1].remove_edge(v2)\n",
    "        if self.directed == False:\n",
    "            self.vertex_list[v2].remove_edge(v1)\n",
    "            \n",
    "    def get_adjacent_vertice(self, v):\n",
    "        if v <0 or v >= self.num_vertices:\n",
    "            raise ValueError(\"Cannot access vertex %d\" % v)\n",
    "        return self.vertex_list[v].get_adjacent_vertices()\n",
    "    \n",
    "    def is_adjacent(self, v1, v2):\n",
    "        if v1>= self.num_vertices or v2 >= self.num_vertices or v1<0 or v2<0:\n",
    "            raise ValueError(\"Vertices %d and %d are out of bounds\" % (v1, v2))\n",
    "        return self.vertex_list[v1].is_adjacent(v2) or self.vertex_list[v2].is_adjacent(v1)\n",
    "    \n",
    "    def get_indegree(self, v):\n",
    "        if v <0 or v >= self.num_vertices:\n",
    "            raise ValueError(\"Cannot access vertex %d\" % v)\n",
    "            \n",
    "        indegree = 0\n",
    "        for i in range(self.num_vertices):\n",
    "            if i == v:\n",
    "                continue\n",
    "            if v in self.get_adjacent_vertice(i):\n",
    "                indegree += 1\n",
    "        return indegree\n",
    "    \n",
    "    def get_edge_weight(self, v1, v2):\n",
    "        return 1\n",
    "        \n",
    "    def show(self):\n",
    "        for i in range(self.num_vertices):\n",
    "            for v in self.get_adjacent_vertice(i):\n",
    "                print(i, \"-->\", v)"
   ]
  },
  {
   "cell_type": "code",
   "execution_count": 33,
   "metadata": {},
   "outputs": [],
   "source": [
    "g = AdjacencySetGraph(4)"
   ]
  },
  {
   "cell_type": "code",
   "execution_count": 34,
   "metadata": {},
   "outputs": [],
   "source": [
    "g.add_edge(0, 1)\n",
    "g.add_edge(0, 3)\n",
    "g.add_edge(1, 3)\n",
    "g.add_edge(3, 2)"
   ]
  },
  {
   "cell_type": "code",
   "execution_count": 35,
   "metadata": {},
   "outputs": [
    {
     "name": "stdout",
     "output_type": "stream",
     "text": [
      "0 --> 1\n",
      "0 --> 3\n",
      "1 --> 0\n",
      "1 --> 3\n",
      "2 --> 3\n",
      "3 --> 0\n",
      "3 --> 1\n",
      "3 --> 2\n"
     ]
    }
   ],
   "source": [
    "g.show()"
   ]
  },
  {
   "cell_type": "code",
   "execution_count": 36,
   "metadata": {},
   "outputs": [
    {
     "name": "stdout",
     "output_type": "stream",
     "text": [
      "Adajacent to:  0 [1, 3]\n",
      "Adajacent to:  1 [0, 3]\n",
      "Adajacent to:  2 [3]\n",
      "Adajacent to:  3 [0, 1, 2]\n"
     ]
    }
   ],
   "source": [
    "for i in range(4):\n",
    "    print(\"Adajacent to: \", i , g.get_adjacent_vertice(i))\n"
   ]
  },
  {
   "cell_type": "code",
   "execution_count": 37,
   "metadata": {},
   "outputs": [
    {
     "name": "stdout",
     "output_type": "stream",
     "text": [
      "Indegree for vertex 0 is 2\n",
      "Indegree for vertex 1 is 2\n",
      "Indegree for vertex 2 is 1\n",
      "Indegree for vertex 3 is 3\n"
     ]
    }
   ],
   "source": [
    "for i in range(4):\n",
    "    print(\"Indegree for vertex %d is %d\" % (i, g.get_indegree(i)))"
   ]
  },
  {
   "cell_type": "code",
   "execution_count": 38,
   "metadata": {},
   "outputs": [
    {
     "data": {
      "text/plain": [
       "True"
      ]
     },
     "execution_count": 38,
     "metadata": {},
     "output_type": "execute_result"
    }
   ],
   "source": [
    "g.is_adjacent(0, 1)"
   ]
  },
  {
   "cell_type": "code",
   "execution_count": null,
   "metadata": {},
   "outputs": [],
   "source": []
  }
 ],
 "metadata": {
  "kernelspec": {
   "display_name": "Python 3",
   "language": "python",
   "name": "python3"
  },
  "language_info": {
   "codemirror_mode": {
    "name": "ipython",
    "version": 3
   },
   "file_extension": ".py",
   "mimetype": "text/x-python",
   "name": "python",
   "nbconvert_exporter": "python",
   "pygments_lexer": "ipython3",
   "version": "3.7.4"
  }
 },
 "nbformat": 4,
 "nbformat_minor": 2
}
