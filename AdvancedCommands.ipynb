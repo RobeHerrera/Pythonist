{
 "cells": [
  {
   "cell_type": "code",
   "execution_count": 1,
   "metadata": {},
   "outputs": [
    {
     "name": "stdout",
     "output_type": "stream",
     "text": [
      "Cjhales exception\n"
     ]
    }
   ],
   "source": [
    "try:\n",
    "    print(variable)\n",
    "except NameError:\n",
    "    print(\"Cjhales exception\")\n",
    "except:\n",
    "    print(\"other Error\")"
   ]
  },
  {
   "cell_type": "code",
   "execution_count": 2,
   "metadata": {},
   "outputs": [
    {
     "name": "stdout",
     "output_type": "stream",
     "text": [
      "Please enter a number: 1\n"
     ]
    }
   ],
   "source": [
    "while True:\n",
    "    try:\n",
    "        input_var = int(input(\"Please enter a number: \"))\n",
    "        break\n",
    "    except ValueError:\n",
    "        print(\"Opps that was not a valid number. try Again...\")"
   ]
  },
  {
   "cell_type": "code",
   "execution_count": 5,
   "metadata": {},
   "outputs": [
    {
     "name": "stdout",
     "output_type": "stream",
     "text": [
      "KeyboardInterrupt has occurred!\n"
     ]
    }
   ],
   "source": [
    "import time\n",
    "\n",
    "try:\n",
    "    time.sleep(10)\n",
    "    \n",
    "except KeyboardInterrupt:\n",
    "    print(\"KeyboardInterrupt has occurred!\")"
   ]
  },
  {
   "cell_type": "code",
   "execution_count": 6,
   "metadata": {},
   "outputs": [
    {
     "name": "stdout",
     "output_type": "stream",
     "text": [
      "OS Error\n"
     ]
    }
   ],
   "source": [
    "try: \n",
    "    f = open('nonexitingfile')\n",
    "except OSError:\n",
    "    print('OS Error')\n",
    "except FileNotFoundError:\n",
    "    print('File not found Error')"
   ]
  },
  {
   "cell_type": "code",
   "execution_count": 8,
   "metadata": {},
   "outputs": [
    {
     "name": "stdout",
     "output_type": "stream",
     "text": [
      "File not found Error\n",
      "Finally statement\n"
     ]
    }
   ],
   "source": [
    "try: \n",
    "    f = open('nonexitingfile')\n",
    "except FileNotFoundError:\n",
    "    print('File not found Error')\n",
    "except OSError:\n",
    "    print('OS Error')\n",
    "finally:\n",
    "    print(\"Finally statement\")\n"
   ]
  },
  {
   "cell_type": "code",
   "execution_count": 9,
   "metadata": {},
   "outputs": [
    {
     "name": "stdout",
     "output_type": "stream",
     "text": [
      " Volume in drive C is Windows\n",
      " Volume Serial Number is 224D-BF02\n",
      "\n",
      " Directory of C:\\Users\\roherrera\\Documents\\10.-Python\n",
      "\n",
      "10-Feb-20  05:10 PM    <DIR>          .\n",
      "10-Feb-20  05:10 PM    <DIR>          ..\n",
      "10-Feb-20  04:07 PM    <DIR>          .ipynb_checkpoints\n",
      "10-Feb-20  05:10 PM             2,775 AdvancedCommands.ipynb\n",
      "21-Jan-20  03:01 PM                28 app.py\n",
      "10-Feb-20  03:30 PM    <DIR>          data_file\n",
      "07-Jan-20  04:37 PM                51 emojis.py\n",
      "10-Feb-20  03:12 PM             3,709 FileOperationJSON.ipynb\n",
      "10-Feb-20  03:45 PM             2,570 FileOperationsCSV.ipynb\n",
      "05-Feb-20  12:23 PM             2,506 FileOperationsTextFile.ipynb\n",
      "14-Jan-20  03:13 PM               265 music.csv\n",
      "14-Jan-20  04:23 PM             1,291 music-recommender.dot\n",
      "14-Jan-20  03:15 PM             2,448 music-recommender.joblib\n",
      "08-Jan-20  11:42 AM               141 myFirstPythonNotebook.py\n",
      "28-Jan-20  04:12 PM             2,282 testMachineLearning.ipynb\n",
      "29-Jan-20  03:27 PM             2,132 Untitled.ipynb\n",
      "              12 File(s)         20,198 bytes\n",
      "               4 Dir(s)  217,243,545,600 bytes free\n"
     ]
    }
   ],
   "source": [
    "ls"
   ]
  },
  {
   "cell_type": "code",
   "execution_count": 10,
   "metadata": {},
   "outputs": [
    {
     "name": "stdout",
     "output_type": "stream",
     "text": [
      "age,gender,genre\n",
      "20,1,HipHop\n",
      "23,1,HipHop\n",
      "25,1,HipHop\n",
      "26,1,Jazz\n",
      "29,1,Jazz\n",
      "30,1,Jazz\n",
      "31,1,Classical\n",
      "33,1,Classical\n",
      "37,1,Classical\n",
      "20,0,Dance\n",
      "21,0,Dance\n",
      "25,0,Dance\n",
      "26,0,Acoustic\n",
      "27,0,Acoustic\n",
      "30,0,Acoustic\n",
      "31,0,Classical\n",
      "34,0,Classical\n",
      "35,0,Classical\n"
     ]
    }
   ],
   "source": [
    "!cat music.csv"
   ]
  },
  {
   "cell_type": "code",
   "execution_count": 11,
   "metadata": {},
   "outputs": [
    {
     "name": "stdout",
     "output_type": "stream",
     "text": [
      "AdvancedCommands.ipynb\n",
      "FileOperationJSON.ipynb\n",
      "FileOperationsCSV.ipynb\n",
      "FileOperationsTextFile.ipynb\n",
      "Untitled.ipynb\n",
      "app.py\n",
      "data_file\n",
      "emojis.py\n",
      "music-recommender.dot\n",
      "music-recommender.joblib\n",
      "music.csv\n",
      "myFirstPythonNotebook.py\n",
      "testMachineLearning.ipynb\n"
     ]
    }
   ],
   "source": [
    "!ls"
   ]
  },
  {
   "cell_type": "code",
   "execution_count": 16,
   "metadata": {},
   "outputs": [
    {
     "name": "stdout",
     "output_type": "stream",
     "text": [
      "nothing went wrong\n",
      "Finally code\n"
     ]
    }
   ],
   "source": [
    "try:\n",
    "    file = open(\"music.csv\")\n",
    "    \n",
    "except: \n",
    "    print(\"oops\")\n",
    "else:\n",
    "    print(\"nothing went wrong\")\n",
    "finally:\n",
    "    print(\"Finally code\")"
   ]
  },
  {
   "cell_type": "code",
   "execution_count": 27,
   "metadata": {},
   "outputs": [
    {
     "name": "stdout",
     "output_type": "stream",
     "text": [
      "Enter a number: 8\n",
      "cath the error: Exception('The number should not exceed 5, the number is 8')\n"
     ]
    }
   ],
   "source": [
    "number =  int(input(\"Enter a number: \"))\n",
    "\n",
    "try:\n",
    "    if number > 5:\n",
    "        raise Exception(f'The number should not exceed 5, the number is {number}')\n",
    "    \n",
    "except Exception as error:\n",
    "    print('cath the error: ' + repr(error))"
   ]
  },
  {
   "cell_type": "code",
   "execution_count": 31,
   "metadata": {},
   "outputs": [
    {
     "ename": "ModuleNotFoundError",
     "evalue": "No module named 'calculator'",
     "output_type": "error",
     "traceback": [
      "\u001b[1;31m---------------------------------------------------------------------------\u001b[0m",
      "\u001b[1;31mModuleNotFoundError\u001b[0m                       Traceback (most recent call last)",
      "\u001b[1;32m<ipython-input-31-455a6eab02dd>\u001b[0m in \u001b[0;36m<module>\u001b[1;34m\u001b[0m\n\u001b[1;32m----> 1\u001b[1;33m \u001b[1;32mimport\u001b[0m \u001b[0mcalculator\u001b[0m\u001b[1;33m\u001b[0m\u001b[1;33m\u001b[0m\u001b[0m\n\u001b[0m",
      "\u001b[1;31mModuleNotFoundError\u001b[0m: No module named 'calculator'"
     ]
    }
   ],
   "source": [
    "import calculator"
   ]
  },
  {
   "cell_type": "code",
   "execution_count": null,
   "metadata": {},
   "outputs": [],
   "source": []
  },
  {
   "cell_type": "code",
   "execution_count": null,
   "metadata": {},
   "outputs": [],
   "source": []
  }
 ],
 "metadata": {
  "kernelspec": {
   "display_name": "Python 3",
   "language": "python",
   "name": "python3"
  },
  "language_info": {
   "codemirror_mode": {
    "name": "ipython",
    "version": 3
   },
   "file_extension": ".py",
   "mimetype": "text/x-python",
   "name": "python",
   "nbconvert_exporter": "python",
   "pygments_lexer": "ipython3",
   "version": "3.7.4"
  }
 },
 "nbformat": 4,
 "nbformat_minor": 2
}
