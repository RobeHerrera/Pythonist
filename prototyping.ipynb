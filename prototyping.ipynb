{
 "cells": [
  {
   "cell_type": "code",
   "execution_count": 1,
   "metadata": {},
   "outputs": [],
   "source": [
    "num_list = [10,20,30,40,50]"
   ]
  },
  {
   "cell_type": "code",
   "execution_count": 2,
   "metadata": {},
   "outputs": [],
   "source": [
    "def main():\n",
    "    count = 0\n",
    "    total = 0\n",
    "    for i in num_list:\n",
    "        count = count + 1\n",
    "        total = total + i\n",
    "        \n",
    "        print(\"element is: \",i)\n",
    "        print(\"\")\n",
    "        print(\"sum: \", total)\n",
    "        print(\"\")\n",
    "    print(\"total sum:\", total)"
   ]
  },
  {
   "cell_type": "code",
   "execution_count": 4,
   "metadata": {},
   "outputs": [
    {
     "name": "stdout",
     "output_type": "stream",
     "text": [
      "element is:  10\n",
      "\n",
      "sum:  10\n",
      "\n",
      "element is:  20\n",
      "\n",
      "sum:  30\n",
      "\n",
      "element is:  30\n",
      "\n",
      "sum:  60\n",
      "\n",
      "element is:  40\n",
      "\n",
      "sum:  100\n",
      "\n",
      "element is:  50\n",
      "\n",
      "sum:  150\n",
      "\n",
      "total sum: 150\n"
     ]
    }
   ],
   "source": [
    "if __name__==\"__main__\":\n",
    "    main()"
   ]
  },
  {
   "cell_type": "code",
   "execution_count": null,
   "metadata": {},
   "outputs": [],
   "source": []
  }
 ],
 "metadata": {
  "kernelspec": {
   "display_name": "Python 3",
   "language": "python",
   "name": "python3"
  },
  "language_info": {
   "codemirror_mode": {
    "name": "ipython",
    "version": 3
   },
   "file_extension": ".py",
   "mimetype": "text/x-python",
   "name": "python",
   "nbconvert_exporter": "python",
   "pygments_lexer": "ipython3",
   "version": "3.7.4"
  }
 },
 "nbformat": 4,
 "nbformat_minor": 2
}
