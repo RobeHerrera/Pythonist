{
 "cells": [
  {
   "cell_type": "code",
   "execution_count": 1,
   "metadata": {},
   "outputs": [],
   "source": [
    "def addition(num1, num2):\n",
    "    \n",
    "    num_iterations = 0\n",
    "    \n",
    "    total = num1 + num2\n",
    "    num_iterations += 1\n",
    "    \n",
    "    print('The sum of %d and %d is %d numerOf Iterations:%d' % (num1, num2, total, num_iterations))"
   ]
  },
  {
   "cell_type": "code",
   "execution_count": 2,
   "metadata": {},
   "outputs": [
    {
     "name": "stdout",
     "output_type": "stream",
     "text": [
      "The sum of 10 and 4 is 14 numerOf Iterations:1\n"
     ]
    }
   ],
   "source": [
    "addition(10,4)"
   ]
  },
  {
   "cell_type": "code",
   "execution_count": 3,
   "metadata": {},
   "outputs": [],
   "source": [
    "def check_oddeven(number):\n",
    "    \n",
    "    count = 0\n",
    "    num_iterartions = 0\n",
    "    \n",
    "    if (number%2 == 0):\n",
    "        num_iterartions += 1\n",
    "        print(f\"{number} is an even number\")\n",
    "        \n",
    "    else:\n",
    "        num_iterartions += 1\n",
    "        print('is ood')\n",
    "        \n",
    "    print ('Total number of interartions', num_iterartions)"
   ]
  },
  {
   "cell_type": "code",
   "execution_count": 4,
   "metadata": {},
   "outputs": [
    {
     "name": "stdout",
     "output_type": "stream",
     "text": [
      "250 is an even number\n",
      "Total number of interartions 1\n"
     ]
    }
   ],
   "source": [
    "check_oddeven(250)"
   ]
  },
  {
   "cell_type": "markdown",
   "metadata": {},
   "source": [
    "# Time Complexity O(N)"
   ]
  },
  {
   "cell_type": "code",
   "execution_count": 5,
   "metadata": {},
   "outputs": [],
   "source": [
    "#complexity O(N)\n",
    "def check_prime(number):\n",
    "    \n",
    "    num_iterartions = 0\n",
    "    for i in range(2, number):\n",
    "        num_iterartions +=1\n",
    "        \n",
    "        if number%i == 0:\n",
    "            print(f\"{number} is not a prime number \\n Total number of iterartions {num_iterartions}\")\n",
    "            return\n",
    "        \n",
    "    print(f\"{number} is a prime number \\n Total number of iterations = {num_iterartions}\")"
   ]
  },
  {
   "cell_type": "code",
   "execution_count": 6,
   "metadata": {},
   "outputs": [
    {
     "name": "stdout",
     "output_type": "stream",
     "text": [
      "1 is a prime number \n",
      " Total number of iterations = 0\n"
     ]
    }
   ],
   "source": [
    "check_prime(1)"
   ]
  },
  {
   "cell_type": "code",
   "execution_count": 7,
   "metadata": {},
   "outputs": [
    {
     "name": "stdout",
     "output_type": "stream",
     "text": [
      "193 is a prime number \n",
      " Total number of iterations = 191\n"
     ]
    }
   ],
   "source": [
    "check_prime(193)"
   ]
  },
  {
   "cell_type": "code",
   "execution_count": 8,
   "metadata": {},
   "outputs": [
    {
     "name": "stdout",
     "output_type": "stream",
     "text": [
      "1847 is a prime number \n",
      " Total number of iterations = 1845\n"
     ]
    }
   ],
   "source": [
    "check_prime(1847)"
   ]
  },
  {
   "cell_type": "code",
   "execution_count": 9,
   "metadata": {},
   "outputs": [],
   "source": [
    "# complexity O(N/2) = O(N)\n",
    "def check_prime2(number):\n",
    "    \n",
    "    num_iterartions = 0\n",
    "    \n",
    "    mid_point = int(number/2)\n",
    "    \n",
    "    for i in range(2, mid_point):\n",
    "        num_iterartions +=1\n",
    "        \n",
    "        if number%i == 0:\n",
    "            print(f\"{number} is not a prime number \\n Total number of iterartions {num_iterartions}\")\n",
    "            return\n",
    "        \n",
    "    print(f\"{number} is a prime number \\n Total number of iterations = {num_iterartions}\")"
   ]
  },
  {
   "cell_type": "code",
   "execution_count": 10,
   "metadata": {},
   "outputs": [
    {
     "name": "stdout",
     "output_type": "stream",
     "text": [
      "1847 is a prime number \n",
      " Total number of iterations = 921\n"
     ]
    }
   ],
   "source": [
    "check_prime2(1847)"
   ]
  },
  {
   "cell_type": "code",
   "execution_count": 11,
   "metadata": {},
   "outputs": [],
   "source": [
    "def find_maxValue(num_list):\n",
    "    max_value = num_list[0]\n",
    "    num_iterations = 0\n",
    "    \n",
    "    for i in range(len(num_list)):\n",
    "        num_iterations += 1\n",
    "        \n",
    "        if max_value < num_list[i]:\n",
    "            max_value = num_list[i]\n",
    "            \n",
    "    print(f\"Maximum value of the list = {max_value}  \\nTotal Number of iterartions = {num_iterations}\")"
   ]
  },
  {
   "cell_type": "code",
   "execution_count": 15,
   "metadata": {},
   "outputs": [
    {
     "name": "stdout",
     "output_type": "stream",
     "text": [
      "Maximum value of the list = 10  \n",
      "Total Number of iterartions = 10\n"
     ]
    }
   ],
   "source": [
    "temp = [5,3,5,6,5,3,10,8,1,9]\n",
    "find_maxValue(temp)"
   ]
  },
  {
   "cell_type": "markdown",
   "metadata": {},
   "source": [
    "# Time Complexity O(N^2)"
   ]
  },
  {
   "cell_type": "code",
   "execution_count": 18,
   "metadata": {},
   "outputs": [],
   "source": [
    "# Time Complexity is O(n) * O(m)\n",
    "def print_pairs(number_list):\n",
    "    \n",
    "    num_iterations = 0\n",
    "    n = len(number_list)\n",
    "    \n",
    "    for i in range(n):\n",
    "        for j in range(n):\n",
    "            print(number_list[i], number_list[j])\n",
    "            num_iterations += 1\n",
    "                        \n",
    "    print(\"Total iterations are: \", num_iterations)"
   ]
  },
  {
   "cell_type": "code",
   "execution_count": 20,
   "metadata": {},
   "outputs": [
    {
     "name": "stdout",
     "output_type": "stream",
     "text": [
      "123 123\n",
      "123 67\n",
      "123 25\n",
      "123 76\n",
      "67 123\n",
      "67 67\n",
      "67 25\n",
      "67 76\n",
      "25 123\n",
      "25 67\n",
      "25 25\n",
      "25 76\n",
      "76 123\n",
      "76 67\n",
      "76 25\n",
      "76 76\n",
      "Total iterations are:  16\n"
     ]
    }
   ],
   "source": [
    "print_pairs([123,67,25,76])"
   ]
  },
  {
   "cell_type": "code",
   "execution_count": null,
   "metadata": {},
   "outputs": [],
   "source": []
  }
 ],
 "metadata": {
  "kernelspec": {
   "display_name": "Python 3",
   "language": "python",
   "name": "python3"
  },
  "language_info": {
   "codemirror_mode": {
    "name": "ipython",
    "version": 3
   },
   "file_extension": ".py",
   "mimetype": "text/x-python",
   "name": "python",
   "nbconvert_exporter": "python",
   "pygments_lexer": "ipython3",
   "version": "3.7.4"
  }
 },
 "nbformat": 4,
 "nbformat_minor": 2
}
