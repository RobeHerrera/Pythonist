{
 "cells": [
  {
   "cell_type": "code",
   "execution_count": 22,
   "metadata": {},
   "outputs": [
    {
     "name": "stdout",
     "output_type": "stream",
     "text": [
      "7\n"
     ]
    }
   ],
   "source": [
    "def fizz_buzz(input):\n",
    "    if (input%3 == 0) and (input%5 == 0):\n",
    "        msg = \"fizzbuzz\"\n",
    "    \n",
    "    elif input%5 == 0:\n",
    "        msg = \"buzz\"\n",
    "    \n",
    "    elif input%3 == 0:\n",
    "        msg = \"fizz\"\n",
    "        \n",
    "    else:\n",
    "        msg= input\n",
    "        \n",
    "    return msg\n",
    "        \n",
    "        \n",
    "    \n",
    "print(fizz_buzz(7))"
   ]
  },
  {
   "cell_type": "code",
   "execution_count": 39,
   "metadata": {},
   "outputs": [],
   "source": [
    "def enroll_in_college(student_name):\n",
    "    student_list = []\n",
    "    \n",
    "    def enroll_student(college_name):\n",
    "        student_list.append(student_name)\n",
    "        print(\"Student\",student_name,\"has been enrolled in\",college_name)\n",
    "        print(\"Current students\", student_list, end=\"\\n\\n\")\n",
    "        \n",
    "    return enroll_student"
   ]
  },
  {
   "cell_type": "code",
   "execution_count": 44,
   "metadata": {},
   "outputs": [],
   "source": [
    "enroll_in_gdl = enroll_in_college('GDL')"
   ]
  },
  {
   "cell_type": "code",
   "execution_count": 45,
   "metadata": {},
   "outputs": [
    {
     "name": "stdout",
     "output_type": "stream",
     "text": [
      "Student GDL has been enrolled in Maria\n",
      "Current students ['GDL']\n",
      "\n"
     ]
    }
   ],
   "source": [
    "enroll_in_gdl(\"Maria\")"
   ]
  }
 ],
 "metadata": {
  "kernelspec": {
   "display_name": "Python 3",
   "language": "python",
   "name": "python3"
  },
  "language_info": {
   "codemirror_mode": {
    "name": "ipython",
    "version": 3
   },
   "file_extension": ".py",
   "mimetype": "text/x-python",
   "name": "python",
   "nbconvert_exporter": "python",
   "pygments_lexer": "ipython3",
   "version": "3.7.4"
  }
 },
 "nbformat": 4,
 "nbformat_minor": 4
}
