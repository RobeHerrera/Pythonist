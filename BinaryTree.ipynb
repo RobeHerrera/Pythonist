{
 "cells": [
  {
   "cell_type": "code",
   "execution_count": 1,
   "metadata": {},
   "outputs": [],
   "source": [
    "class Node:\n",
    "    def __init__(self, data):\n",
    "        self.left = None\n",
    "        self.right = None\n",
    "        \n",
    "        self.data = data\n",
    "        \n",
    "    def get_left_child(self):\n",
    "        return self.left\n",
    "    \n",
    "    def set_left_child(self, left):\n",
    "        self.left = left\n",
    "        \n",
    "    def get_right_child(self):\n",
    "        return self.right\n",
    "    \n",
    "    def set_right_child(self, right):\n",
    "        self.right = right\n",
    "        \n",
    "    def get_value(self):\n",
    "        return self.data\n",
    "    \n",
    "    def set_value(self, value):\n",
    "        self.data = value\n",
    "        \n",
    "    def print_tree(self):\n",
    "        if self.left:\n",
    "            self.left.print_tree()\n",
    "            \n",
    "        print(self.data)\n",
    "        \n",
    "        if self.right:\n",
    "            self.right.print_tree()\n",
    "            \n",
    "            "
   ]
  },
  {
   "cell_type": "code",
   "execution_count": 2,
   "metadata": {},
   "outputs": [],
   "source": [
    "def insert(head, node):\n",
    "    \n",
    "    if head == None:\n",
    "        return node\n",
    "    \n",
    "    if node.get_value() <= head.get_value():\n",
    "        head.set_left_child(insert(head.get_left_child(), node))\n",
    "        \n",
    "    else:\n",
    "        head.set_right_child(insert(head.get_right_child(), node))\n",
    "        \n",
    "    return head\n"
   ]
  },
  {
   "cell_type": "code",
   "execution_count": 3,
   "metadata": {},
   "outputs": [],
   "source": [
    "A = Node(45)\n",
    "B = Node(2)\n",
    "C = Node(33)\n",
    "D = Node(54)\n",
    "E = Node(25)"
   ]
  },
  {
   "cell_type": "code",
   "execution_count": 4,
   "metadata": {},
   "outputs": [],
   "source": [
    "head = insert(None, E)"
   ]
  },
  {
   "cell_type": "code",
   "execution_count": 5,
   "metadata": {},
   "outputs": [
    {
     "name": "stdout",
     "output_type": "stream",
     "text": [
      "25\n"
     ]
    }
   ],
   "source": [
    "head.print_tree()"
   ]
  },
  {
   "cell_type": "code",
   "execution_count": 6,
   "metadata": {},
   "outputs": [
    {
     "name": "stdout",
     "output_type": "stream",
     "text": [
      "2\n",
      "25\n"
     ]
    }
   ],
   "source": [
    "insert(head, B)\n",
    "head.print_tree()"
   ]
  },
  {
   "cell_type": "code",
   "execution_count": 7,
   "metadata": {},
   "outputs": [
    {
     "data": {
      "text/plain": [
       "<__main__.Node at 0x2593a144088>"
      ]
     },
     "execution_count": 7,
     "metadata": {},
     "output_type": "execute_result"
    }
   ],
   "source": [
    "insert(head, C)"
   ]
  },
  {
   "cell_type": "code",
   "execution_count": 8,
   "metadata": {},
   "outputs": [
    {
     "data": {
      "text/plain": [
       "<__main__.Node at 0x2593a144088>"
      ]
     },
     "execution_count": 8,
     "metadata": {},
     "output_type": "execute_result"
    }
   ],
   "source": [
    "insert(head, A)\n",
    "insert(head, D)"
   ]
  },
  {
   "cell_type": "code",
   "execution_count": 9,
   "metadata": {},
   "outputs": [
    {
     "name": "stdout",
     "output_type": "stream",
     "text": [
      "2\n",
      "25\n",
      "33\n",
      "45\n",
      "54\n"
     ]
    }
   ],
   "source": [
    "head.print_tree()"
   ]
  },
  {
   "cell_type": "code",
   "execution_count": 10,
   "metadata": {},
   "outputs": [],
   "source": [
    "def lookup(head, data):\n",
    "    if head == None:\n",
    "        return print(\"Value not found..\")\n",
    "    \n",
    "    if head.get_value() == data:\n",
    "        return head\n",
    "    \n",
    "    if data<= head.get_value():\n",
    "        return lookup(head.get_left_child(), data)\n",
    "    else:\n",
    "        return lookup(head.get_right_child(), data)"
   ]
  },
  {
   "cell_type": "code",
   "execution_count": 11,
   "metadata": {},
   "outputs": [],
   "source": [
    "def print_node(node):\n",
    "    if(node == None):\n",
    "        print(\"Not found¡¡\")\n",
    "    else:    \n",
    "        print(node.get_value())"
   ]
  },
  {
   "cell_type": "code",
   "execution_count": 12,
   "metadata": {},
   "outputs": [
    {
     "name": "stdout",
     "output_type": "stream",
     "text": [
      "25\n"
     ]
    }
   ],
   "source": [
    "print_node(lookup(head,25))\n"
   ]
  },
  {
   "cell_type": "code",
   "execution_count": 13,
   "metadata": {},
   "outputs": [
    {
     "name": "stdout",
     "output_type": "stream",
     "text": [
      "Value not found..\n",
      "Not found¡¡\n"
     ]
    }
   ],
   "source": [
    "print_node(lookup(head,10))"
   ]
  },
  {
   "cell_type": "code",
   "execution_count": 14,
   "metadata": {},
   "outputs": [],
   "source": [
    "def min_value(head):\n",
    "    current = head\n",
    "    \n",
    "    while(current.left != None):\n",
    "        current = current.left\n",
    "        \n",
    "    return current.data"
   ]
  },
  {
   "cell_type": "code",
   "execution_count": 15,
   "metadata": {},
   "outputs": [
    {
     "name": "stdout",
     "output_type": "stream",
     "text": [
      "2\n"
     ]
    }
   ],
   "source": [
    "print(min_value(head))"
   ]
  },
  {
   "cell_type": "code",
   "execution_count": 16,
   "metadata": {},
   "outputs": [
    {
     "data": {
      "text/plain": [
       "1"
      ]
     },
     "execution_count": 16,
     "metadata": {},
     "output_type": "execute_result"
    }
   ],
   "source": [
    "insert(head, Node(1))\n",
    "\n",
    "min_value(head)"
   ]
  },
  {
   "cell_type": "code",
   "execution_count": 17,
   "metadata": {},
   "outputs": [],
   "source": [
    "def max_value(head):\n",
    "    \n",
    "    current = head\n",
    "    \n",
    "    #lopp down to find the right most leaft\n",
    "    while (current.right != None):\n",
    "        current = current.right\n",
    "        \n",
    "    return current.data"
   ]
  },
  {
   "cell_type": "code",
   "execution_count": 18,
   "metadata": {},
   "outputs": [
    {
     "data": {
      "text/plain": [
       "54"
      ]
     },
     "execution_count": 18,
     "metadata": {},
     "output_type": "execute_result"
    }
   ],
   "source": [
    "max_value(head)"
   ]
  },
  {
   "cell_type": "code",
   "execution_count": 19,
   "metadata": {},
   "outputs": [
    {
     "data": {
      "text/plain": [
       "100"
      ]
     },
     "execution_count": 19,
     "metadata": {},
     "output_type": "execute_result"
    }
   ],
   "source": [
    "insert(head, Node(100))\n",
    "\n",
    "max_value(head)"
   ]
  },
  {
   "cell_type": "code",
   "execution_count": 20,
   "metadata": {},
   "outputs": [
    {
     "name": "stdout",
     "output_type": "stream",
     "text": [
      "1\n",
      "2\n",
      "25\n",
      "33\n",
      "45\n",
      "54\n",
      "100\n"
     ]
    }
   ],
   "source": [
    "head.print_tree()"
   ]
  },
  {
   "cell_type": "code",
   "execution_count": 21,
   "metadata": {},
   "outputs": [],
   "source": [
    "class MyQueue:\n",
    "    def __init__(self):\n",
    "        self.items = []\n",
    "        \n",
    "    def is_empty(self):\n",
    "        return len(self.items) == 0\n",
    "    \n",
    "    def enqueue(self, item):\n",
    "        self.items.append(item)\n",
    "        \n",
    "    def dequeue(self):\n",
    "        return self.items.pop(0)\n",
    "    \n",
    "    def size(self):\n",
    "        return len(self.items)\n",
    "    \n",
    "    def peek(self):\n",
    "        if self.is_empty():\n",
    "            raise Exception(\"Nothing to peek\")\n",
    "            \n",
    "        return self.items[0]      "
   ]
  },
  {
   "cell_type": "code",
   "execution_count": 22,
   "metadata": {},
   "outputs": [],
   "source": [
    "def breadth_first(node):\n",
    "    if (node == None):\n",
    "        raise Exception(\"No root foubd!\")\n",
    "        \n",
    "    path = []\n",
    "    queue = MyQueue()\n",
    "    queue.enqueue(node)\n",
    "    \n",
    "    while queue.size() > 0:\n",
    "        current = queue.dequeue()\n",
    "        \n",
    "        path.append(current.data)\n",
    "        \n",
    "        if current.get_left_child() != None:\n",
    "            queue.enqueue(current.get_left_child())\n",
    "            \n",
    "        if current.get_right_child() != None:\n",
    "            queue.enqueue(current.get_right_child())\n",
    "            \n",
    "    return path"
   ]
  },
  {
   "cell_type": "code",
   "execution_count": 23,
   "metadata": {},
   "outputs": [
    {
     "data": {
      "text/plain": [
       "[25, 2, 33, 1, 45, 54, 100]"
      ]
     },
     "execution_count": 23,
     "metadata": {},
     "output_type": "execute_result"
    }
   ],
   "source": [
    "breadth_first(E)"
   ]
  },
  {
   "cell_type": "code",
   "execution_count": 24,
   "metadata": {},
   "outputs": [],
   "source": [
    "def pre_order(node):\n",
    "    path = []\n",
    "    \n",
    "    if node:\n",
    "        path.append(node.data)        \n",
    "        path = path + pre_order(node.get_left_child())\n",
    "        path = path + pre_order(node.get_right_child())\n",
    "        \n",
    "    return path\n",
    "        "
   ]
  },
  {
   "cell_type": "code",
   "execution_count": 25,
   "metadata": {},
   "outputs": [
    {
     "data": {
      "text/plain": [
       "[25, 2, 1, 33, 45, 54, 100]"
      ]
     },
     "execution_count": 25,
     "metadata": {},
     "output_type": "execute_result"
    }
   ],
   "source": [
    "pre_order(E)"
   ]
  },
  {
   "cell_type": "code",
   "execution_count": 26,
   "metadata": {},
   "outputs": [],
   "source": [
    "def in_order(node):\n",
    "    path = []\n",
    "    \n",
    "    if node:\n",
    "        path = path + pre_order(node.get_left_child())\n",
    "        path.append(node.data)\n",
    "        path = path + pre_order(node.get_right_child())\n",
    "        \n",
    "    return path\n",
    "    "
   ]
  },
  {
   "cell_type": "code",
   "execution_count": 27,
   "metadata": {},
   "outputs": [
    {
     "data": {
      "text/plain": [
       "[2, 1, 25, 33, 45, 54, 100]"
      ]
     },
     "execution_count": 27,
     "metadata": {},
     "output_type": "execute_result"
    }
   ],
   "source": [
    "in_order(E)"
   ]
  },
  {
   "cell_type": "code",
   "execution_count": 28,
   "metadata": {},
   "outputs": [],
   "source": [
    "def pos_order(node):\n",
    "    path = []\n",
    "    \n",
    "    if node:\n",
    "        path = path + pre_order(node.get_left_child())        \n",
    "        path = path + pre_order(node.get_right_child())\n",
    "        path.append(node.data)\n",
    "        \n",
    "    return path\n",
    "    "
   ]
  },
  {
   "cell_type": "code",
   "execution_count": 29,
   "metadata": {},
   "outputs": [
    {
     "data": {
      "text/plain": [
       "[2, 1, 33, 45, 54, 100, 25]"
      ]
     },
     "execution_count": 29,
     "metadata": {},
     "output_type": "execute_result"
    }
   ],
   "source": [
    "pos_order(E)"
   ]
  },
  {
   "cell_type": "code",
   "execution_count": null,
   "metadata": {},
   "outputs": [],
   "source": []
  }
 ],
 "metadata": {
  "kernelspec": {
   "display_name": "Python 3",
   "language": "python",
   "name": "python3"
  },
  "language_info": {
   "codemirror_mode": {
    "name": "ipython",
    "version": 3
   },
   "file_extension": ".py",
   "mimetype": "text/x-python",
   "name": "python",
   "nbconvert_exporter": "python",
   "pygments_lexer": "ipython3",
   "version": "3.7.4"
  }
 },
 "nbformat": 4,
 "nbformat_minor": 2
}
