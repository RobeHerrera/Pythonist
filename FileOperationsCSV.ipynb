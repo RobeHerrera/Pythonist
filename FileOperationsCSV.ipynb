{
 "cells": [
  {
   "cell_type": "code",
   "execution_count": 2,
   "metadata": {},
   "outputs": [],
   "source": [
    "import csv"
   ]
  },
  {
   "cell_type": "code",
   "execution_count": 4,
   "metadata": {},
   "outputs": [
    {
     "name": "stdout",
     "output_type": "stream",
     "text": [
      "Region,Country,Capital\n",
      "Asia,asdfasd,Bishek\n",
      "Latinoamerica, Mexico, DF\n"
     ]
    }
   ],
   "source": [
    "!cat data_file/record.csv"
   ]
  },
  {
   "cell_type": "code",
   "execution_count": 5,
   "metadata": {},
   "outputs": [
    {
     "name": "stdout",
     "output_type": "stream",
     "text": [
      "['Region', 'Country', 'Capital']\n",
      "['Asia', 'asdfasd', 'Bishek']\n",
      "['Latinoamerica', ' Mexico', ' DF']\n"
     ]
    }
   ],
   "source": [
    "file = open('data_file/record.csv','r')\n",
    "\n",
    "with file:\n",
    "    read = csv.reader(file)\n",
    "    \n",
    "    for row in read:\n",
    "        print(row)"
   ]
  },
  {
   "cell_type": "code",
   "execution_count": 8,
   "metadata": {},
   "outputs": [
    {
     "name": "stdout",
     "output_type": "stream",
     "text": [
      "{'Region': 'Asia', 'Country': 'asdfasd', 'Capital': 'Bishek'}\n",
      "{'Region': 'Latinoamerica', 'Country': ' Mexico', 'Capital': ' DF'}\n"
     ]
    }
   ],
   "source": [
    "file = open('data_file/record.csv','r')\n",
    "\n",
    "with file:\n",
    "    read = csv.DictReader(file)\n",
    "    \n",
    "    for row in read:\n",
    "        print(dict(row))"
   ]
  },
  {
   "cell_type": "code",
   "execution_count": 9,
   "metadata": {},
   "outputs": [
    {
     "name": "stdout",
     "output_type": "stream",
     "text": [
      "OrderedDict([('Region', 'Asia'), ('Country', 'asdfasd'), ('Capital', 'Bishek')])\n",
      "OrderedDict([('Region', 'Latinoamerica'), ('Country', ' Mexico'), ('Capital', ' DF')])\n"
     ]
    }
   ],
   "source": [
    "file = open('data_file/record.csv','r')\n",
    "\n",
    "with file:\n",
    "    read = csv.DictReader(file)\n",
    "    \n",
    "    for row in read:\n",
    "        print(row)"
   ]
  }
 ],
 "metadata": {
  "kernelspec": {
   "display_name": "Python 3",
   "language": "python",
   "name": "python3"
  },
  "language_info": {
   "codemirror_mode": {
    "name": "ipython",
    "version": 3
   },
   "file_extension": ".py",
   "mimetype": "text/x-python",
   "name": "python",
   "nbconvert_exporter": "python",
   "pygments_lexer": "ipython3",
   "version": "3.7.4"
  }
 },
 "nbformat": 4,
 "nbformat_minor": 2
}
