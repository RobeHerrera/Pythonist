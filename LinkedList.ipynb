{
 "cells": [
  {
   "cell_type": "code",
   "execution_count": 36,
   "metadata": {},
   "outputs": [],
   "source": [
    "class Node:\n",
    "    def __init__(self, dataval=None, nextval=None):\n",
    "        self.dataval = dataval\n",
    "        self.nextval = nextval\n",
    "        \n",
    "    def __repr__(self):\n",
    "        return repr(self.dataval)"
   ]
  },
  {
   "cell_type": "code",
   "execution_count": 62,
   "metadata": {},
   "outputs": [],
   "source": [
    "class LinkedList:\n",
    "    def __init__(self):\n",
    "        self.head = None\n",
    "        \n",
    "    def __repr__(self):\n",
    "        node = []\n",
    "        curr = self.head\n",
    "        \n",
    "        while curr:\n",
    "            node.append(repr(curr))\n",
    "            curr = curr.nextval\n",
    "            \n",
    "        return '[' + '->'.join(node) + ']'\n",
    "    \n",
    "    def prepend(self, dataval):\n",
    "        self.head = Node(dataval = dataval, nextval = self.head)\n",
    "        \n",
    "    def append(self, dataval):\n",
    "        \n",
    "        if not self.head:\n",
    "            self.head = Node(dataval=dataval)\n",
    "            return\n",
    "    \n",
    "        curr = self.head\n",
    "        \n",
    "        while curr.nextval:\n",
    "            curr = curr.nextval\n",
    "            \n",
    "        curr.nextval = Node(dataval=dataval)\n",
    "        \n",
    "    def add_after(self, middle_dataval, dataval):\n",
    "        \n",
    "        if middle_dataval is None:\n",
    "            print(\"Data to insert after not specified\")\n",
    "            return\n",
    "        \n",
    "        curr = self.head\n",
    "        \n",
    "        while curr and curr.dataval != middle_dataval:\n",
    "            curr = curr.nextval\n",
    "            \n",
    "        new_node = Node(dataval = dataval)\n",
    "        \n",
    "        new_node.nextval = curr.nextval\n",
    "        curr.nextval = new_node\n",
    "        \n",
    "    def find(self, data):\n",
    "        curr = selft.head\n",
    "        while curr and curr.dataval != data:\n",
    "            curr = curr.nextval\n",
    "        \n",
    "        return curr\n",
    "\n",
    "    def remove(self, data):\n",
    "        curr = self.head\n",
    "        prev = Nonde\n",
    "        \n",
    "        while curr and curr.dataval != data:\n",
    "            prev = curr\n",
    "            curr = curr.nextval\n",
    "            \n",
    "        if prev is None:\n",
    "            self.head = curr.nextval\n",
    "        elif curr:\n",
    "            prev.nextval = curr.nextval\n",
    "            curr.nextval = None\n",
    "            \n",
    "            \n",
    "    def reverse(self):\n",
    "        curr = self.head\n",
    "        prev_node = None\n",
    "        next_node = None\n",
    "        \n",
    "        while curr:\n",
    "            nextval = curr.nextval\n",
    "            curr.nextval = prev_node\n",
    "            \n",
    "            prev_node = curr \n",
    "            curr = nextval\n",
    "            \n",
    "        self.head = prev_node"
   ]
  },
  {
   "cell_type": "code",
   "execution_count": 56,
   "metadata": {},
   "outputs": [],
   "source": [
    "numbers = LinkedList()"
   ]
  },
  {
   "cell_type": "code",
   "execution_count": 57,
   "metadata": {},
   "outputs": [
    {
     "data": {
      "text/plain": [
       "[]"
      ]
     },
     "execution_count": 57,
     "metadata": {},
     "output_type": "execute_result"
    }
   ],
   "source": [
    "numbers"
   ]
  },
  {
   "cell_type": "code",
   "execution_count": 58,
   "metadata": {},
   "outputs": [
    {
     "data": {
      "text/plain": [
       "['two'->'three']"
      ]
     },
     "execution_count": 58,
     "metadata": {},
     "output_type": "execute_result"
    }
   ],
   "source": [
    "numbers.append(\"two\")\n",
    "numbers.append(\"three\")\n",
    "numbers"
   ]
  },
  {
   "cell_type": "code",
   "execution_count": 59,
   "metadata": {},
   "outputs": [
    {
     "data": {
      "text/plain": [
       "['one'->'two'->'three']"
      ]
     },
     "execution_count": 59,
     "metadata": {},
     "output_type": "execute_result"
    }
   ],
   "source": [
    "numbers.prepend(\"one\")\n",
    "numbers"
   ]
  },
  {
   "cell_type": "code",
   "execution_count": 60,
   "metadata": {},
   "outputs": [
    {
     "data": {
      "text/plain": [
       "['one'->'five'->'two'->'three']"
      ]
     },
     "execution_count": 60,
     "metadata": {},
     "output_type": "execute_result"
    }
   ],
   "source": [
    "numbers.add_after(\"one\",\"five\")\n",
    "numbers"
   ]
  },
  {
   "cell_type": "code",
   "execution_count": 61,
   "metadata": {},
   "outputs": [
    {
     "data": {
      "text/plain": [
       "['three'->'two'->'five'->'one']"
      ]
     },
     "execution_count": 61,
     "metadata": {},
     "output_type": "execute_result"
    }
   ],
   "source": [
    "numbers.reverse()\n",
    "numbers"
   ]
  },
  {
   "cell_type": "code",
   "execution_count": null,
   "metadata": {},
   "outputs": [],
   "source": []
  }
 ],
 "metadata": {
  "kernelspec": {
   "display_name": "Python 3",
   "language": "python",
   "name": "python3"
  },
  "language_info": {
   "codemirror_mode": {
    "name": "ipython",
    "version": 3
   },
   "file_extension": ".py",
   "mimetype": "text/x-python",
   "name": "python",
   "nbconvert_exporter": "python",
   "pygments_lexer": "ipython3",
   "version": "3.7.4"
  }
 },
 "nbformat": 4,
 "nbformat_minor": 2
}
