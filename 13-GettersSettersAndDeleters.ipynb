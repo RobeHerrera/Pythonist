{
 "cells": [
  {
   "cell_type": "code",
   "execution_count": 38,
   "metadata": {},
   "outputs": [],
   "source": [
    "class Wrestler:\n",
    "    def __init_(self):\n",
    "        self.__name = ''\n",
    "        \n",
    "    def set_name(self,name):\n",
    "        print('Setter method called')\n",
    "        self.__name = name\n",
    "        \n",
    "    def get_name(self):\n",
    "        print('getter method called')\n",
    "        return self.__name\n",
    "    \n",
    "    def del_name(self):\n",
    "        print('Deleter Method Called')\n",
    "        del self.__name\n",
    "    \n",
    "    name = property(get_name, set_name, del_name)"
   ]
  },
  {
   "cell_type": "code",
   "execution_count": 39,
   "metadata": {},
   "outputs": [],
   "source": [
    "w1 = Wrestler()"
   ]
  },
  {
   "cell_type": "code",
   "execution_count": 40,
   "metadata": {},
   "outputs": [
    {
     "name": "stdout",
     "output_type": "stream",
     "text": [
      "Setter method called\n"
     ]
    }
   ],
   "source": [
    "w1.set_name('Steve')"
   ]
  },
  {
   "cell_type": "code",
   "execution_count": 41,
   "metadata": {},
   "outputs": [
    {
     "name": "stdout",
     "output_type": "stream",
     "text": [
      "getter method called\n"
     ]
    },
    {
     "data": {
      "text/plain": [
       "'Steve'"
      ]
     },
     "execution_count": 41,
     "metadata": {},
     "output_type": "execute_result"
    }
   ],
   "source": [
    "w1.get_name()"
   ]
  },
  {
   "cell_type": "code",
   "execution_count": 42,
   "metadata": {},
   "outputs": [
    {
     "data": {
      "text/plain": [
       "{'_Wrestler__name': 'Steve'}"
      ]
     },
     "execution_count": 42,
     "metadata": {},
     "output_type": "execute_result"
    }
   ],
   "source": [
    "w1.__dict__"
   ]
  },
  {
   "cell_type": "code",
   "execution_count": 43,
   "metadata": {},
   "outputs": [],
   "source": [
    "w1._Wrestler__name = 'Rober'"
   ]
  },
  {
   "cell_type": "code",
   "execution_count": 44,
   "metadata": {},
   "outputs": [
    {
     "name": "stdout",
     "output_type": "stream",
     "text": [
      "getter method called\n"
     ]
    },
    {
     "data": {
      "text/plain": [
       "'Rober'"
      ]
     },
     "execution_count": 44,
     "metadata": {},
     "output_type": "execute_result"
    }
   ],
   "source": [
    "w1.get_name()"
   ]
  },
  {
   "cell_type": "code",
   "execution_count": 45,
   "metadata": {},
   "outputs": [
    {
     "name": "stdout",
     "output_type": "stream",
     "text": [
      "Setter method called\n"
     ]
    }
   ],
   "source": [
    "w1.name = 'Hola'"
   ]
  },
  {
   "cell_type": "code",
   "execution_count": 46,
   "metadata": {},
   "outputs": [
    {
     "name": "stdout",
     "output_type": "stream",
     "text": [
      "getter method called\n"
     ]
    },
    {
     "data": {
      "text/plain": [
       "'Hola'"
      ]
     },
     "execution_count": 46,
     "metadata": {},
     "output_type": "execute_result"
    }
   ],
   "source": [
    "w1.name"
   ]
  },
  {
   "cell_type": "code",
   "execution_count": 47,
   "metadata": {},
   "outputs": [
    {
     "name": "stdout",
     "output_type": "stream",
     "text": [
      "Deleter Method Called\n"
     ]
    }
   ],
   "source": [
    "del w1.name"
   ]
  },
  {
   "cell_type": "code",
   "execution_count": 48,
   "metadata": {},
   "outputs": [
    {
     "name": "stdout",
     "output_type": "stream",
     "text": [
      "getter method called\n"
     ]
    },
    {
     "ename": "AttributeError",
     "evalue": "'Wrestler' object has no attribute '_Wrestler__name'",
     "output_type": "error",
     "traceback": [
      "\u001b[1;31m---------------------------------------------------------------------------\u001b[0m",
      "\u001b[1;31mAttributeError\u001b[0m                            Traceback (most recent call last)",
      "\u001b[1;32m<ipython-input-48-de26a2e25956>\u001b[0m in \u001b[0;36m<module>\u001b[1;34m\u001b[0m\n\u001b[1;32m----> 1\u001b[1;33m \u001b[0mw1\u001b[0m\u001b[1;33m.\u001b[0m\u001b[0mname\u001b[0m\u001b[1;33m\u001b[0m\u001b[1;33m\u001b[0m\u001b[0m\n\u001b[0m",
      "\u001b[1;32m<ipython-input-38-95205c51a357>\u001b[0m in \u001b[0;36mget_name\u001b[1;34m(self)\u001b[0m\n\u001b[0;32m      9\u001b[0m     \u001b[1;32mdef\u001b[0m \u001b[0mget_name\u001b[0m\u001b[1;33m(\u001b[0m\u001b[0mself\u001b[0m\u001b[1;33m)\u001b[0m\u001b[1;33m:\u001b[0m\u001b[1;33m\u001b[0m\u001b[1;33m\u001b[0m\u001b[0m\n\u001b[0;32m     10\u001b[0m         \u001b[0mprint\u001b[0m\u001b[1;33m(\u001b[0m\u001b[1;34m'getter method called'\u001b[0m\u001b[1;33m)\u001b[0m\u001b[1;33m\u001b[0m\u001b[1;33m\u001b[0m\u001b[0m\n\u001b[1;32m---> 11\u001b[1;33m         \u001b[1;32mreturn\u001b[0m \u001b[0mself\u001b[0m\u001b[1;33m.\u001b[0m\u001b[0m__name\u001b[0m\u001b[1;33m\u001b[0m\u001b[1;33m\u001b[0m\u001b[0m\n\u001b[0m\u001b[0;32m     12\u001b[0m \u001b[1;33m\u001b[0m\u001b[0m\n\u001b[0;32m     13\u001b[0m     \u001b[1;32mdef\u001b[0m \u001b[0mdel_name\u001b[0m\u001b[1;33m(\u001b[0m\u001b[0mself\u001b[0m\u001b[1;33m)\u001b[0m\u001b[1;33m:\u001b[0m\u001b[1;33m\u001b[0m\u001b[1;33m\u001b[0m\u001b[0m\n",
      "\u001b[1;31mAttributeError\u001b[0m: 'Wrestler' object has no attribute '_Wrestler__name'"
     ]
    }
   ],
   "source": [
    "w1.name"
   ]
  },
  {
   "cell_type": "code",
   "execution_count": 49,
   "metadata": {},
   "outputs": [
    {
     "name": "stdout",
     "output_type": "stream",
     "text": [
      "Help on class Wrestler in module __main__:\n",
      "\n",
      "class Wrestler(builtins.object)\n",
      " |  Methods defined here:\n",
      " |  \n",
      " |  del_name(self)\n",
      " |  \n",
      " |  get_name(self)\n",
      " |  \n",
      " |  set_name(self, name)\n",
      " |  \n",
      " |  ----------------------------------------------------------------------\n",
      " |  Data descriptors defined here:\n",
      " |  \n",
      " |  __dict__\n",
      " |      dictionary for instance variables (if defined)\n",
      " |  \n",
      " |  __weakref__\n",
      " |      list of weak references to the object (if defined)\n",
      " |  \n",
      " |  name\n",
      "\n"
     ]
    }
   ],
   "source": [
    "help(Wrestler)"
   ]
  },
  {
   "cell_type": "code",
   "execution_count": 50,
   "metadata": {},
   "outputs": [
    {
     "data": {
      "text/plain": [
       "mappingproxy({'__module__': '__main__',\n",
       "              '_Wrestler__init_': <function __main__.Wrestler.__init_(self)>,\n",
       "              'set_name': <function __main__.Wrestler.set_name(self, name)>,\n",
       "              'get_name': <function __main__.Wrestler.get_name(self)>,\n",
       "              'del_name': <function __main__.Wrestler.del_name(self)>,\n",
       "              'name': <property at 0x24d3d9984f8>,\n",
       "              '__dict__': <attribute '__dict__' of 'Wrestler' objects>,\n",
       "              '__weakref__': <attribute '__weakref__' of 'Wrestler' objects>,\n",
       "              '__doc__': None})"
      ]
     },
     "execution_count": 50,
     "metadata": {},
     "output_type": "execute_result"
    }
   ],
   "source": [
    "Wrestler.__dict__"
   ]
  },
  {
   "cell_type": "code",
   "execution_count": 69,
   "metadata": {},
   "outputs": [],
   "source": [
    "class Wrestler:\n",
    "    def __init_(self):\n",
    "        self.__name = name\n",
    "        self.__age = age\n",
    "        \n",
    "    @property\n",
    "    def name(self):\n",
    "        print('getter method decorator called')\n",
    "        return self.__name\n",
    "    \n",
    "    @name.setter\n",
    "    def name(self,name):\n",
    "        print('Setter method decorator called')\n",
    "        self.__name = name\n",
    "        \n",
    "    @name.deleter\n",
    "    def name(self):\n",
    "        print('Deleter Method decorator Called')\n",
    "        del self.__name\n",
    "        \n",
    "        \n",
    "    @property\n",
    "    def age(self):\n",
    "        print('getter age method decorator called')\n",
    "        return self.__age\n",
    "    \n",
    "    @age.setter\n",
    "    def age(self,age):\n",
    "        print('Setter age method decorator called')\n",
    "        self.__age = age\n",
    "        \n",
    "    @age.deleter\n",
    "    def age(self):\n",
    "        print('Deleter age Method decorator Called')\n",
    "        del self.__age\n",
    "    \n",
    "    #No longer use because we use the DECORATORS\n",
    "    #name = property(get_name, set_name, del_name)"
   ]
  },
  {
   "cell_type": "code",
   "execution_count": 70,
   "metadata": {},
   "outputs": [],
   "source": [
    "w = Wrestler()"
   ]
  },
  {
   "cell_type": "code",
   "execution_count": 71,
   "metadata": {},
   "outputs": [
    {
     "name": "stdout",
     "output_type": "stream",
     "text": [
      "Setter method decorator called\n"
     ]
    }
   ],
   "source": [
    "w.name = 'OSha'"
   ]
  },
  {
   "cell_type": "code",
   "execution_count": 72,
   "metadata": {},
   "outputs": [
    {
     "name": "stdout",
     "output_type": "stream",
     "text": [
      "getter method decorator called\n"
     ]
    },
    {
     "data": {
      "text/plain": [
       "'OSha'"
      ]
     },
     "execution_count": 72,
     "metadata": {},
     "output_type": "execute_result"
    }
   ],
   "source": [
    "w.name"
   ]
  },
  {
   "cell_type": "code",
   "execution_count": 73,
   "metadata": {},
   "outputs": [
    {
     "name": "stdout",
     "output_type": "stream",
     "text": [
      "Deleter Method decorator Called\n"
     ]
    }
   ],
   "source": [
    "del w.name"
   ]
  },
  {
   "cell_type": "code",
   "execution_count": 74,
   "metadata": {},
   "outputs": [
    {
     "name": "stdout",
     "output_type": "stream",
     "text": [
      "Setter age method decorator called\n",
      "getter age method decorator called\n"
     ]
    },
    {
     "data": {
      "text/plain": [
       "90"
      ]
     },
     "execution_count": 74,
     "metadata": {},
     "output_type": "execute_result"
    }
   ],
   "source": [
    "w.age = 90\n",
    "w.age"
   ]
  },
  {
   "cell_type": "code",
   "execution_count": null,
   "metadata": {},
   "outputs": [],
   "source": []
  }
 ],
 "metadata": {
  "kernelspec": {
   "display_name": "Python 3",
   "language": "python",
   "name": "python3"
  },
  "language_info": {
   "codemirror_mode": {
    "name": "ipython",
    "version": 3
   },
   "file_extension": ".py",
   "mimetype": "text/x-python",
   "name": "python",
   "nbconvert_exporter": "python",
   "pygments_lexer": "ipython3",
   "version": "3.7.4"
  }
 },
 "nbformat": 4,
 "nbformat_minor": 2
}
