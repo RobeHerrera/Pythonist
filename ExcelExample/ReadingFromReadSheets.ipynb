{
 "cells": [
  {
   "cell_type": "code",
   "execution_count": 1,
   "metadata": {},
   "outputs": [],
   "source": [
    "import openpyxl"
   ]
  },
  {
   "cell_type": "code",
   "execution_count": 10,
   "metadata": {},
   "outputs": [],
   "source": [
    "work_book  = openpyxl.load_workbook('datasets/company_revenue.xlsx')"
   ]
  },
  {
   "cell_type": "code",
   "execution_count": 11,
   "metadata": {},
   "outputs": [
    {
     "data": {
      "text/plain": [
       "['Revenue']"
      ]
     },
     "execution_count": 11,
     "metadata": {},
     "output_type": "execute_result"
    }
   ],
   "source": [
    "work_book.sheetnames"
   ]
  },
  {
   "cell_type": "code",
   "execution_count": 12,
   "metadata": {},
   "outputs": [],
   "source": [
    "sheet_obj  = work_book['Revenue']"
   ]
  },
  {
   "cell_type": "code",
   "execution_count": 13,
   "metadata": {},
   "outputs": [
    {
     "data": {
      "text/plain": [
       "'Revenue'"
      ]
     },
     "execution_count": 13,
     "metadata": {},
     "output_type": "execute_result"
    }
   ],
   "source": [
    "sheet_obj.title"
   ]
  },
  {
   "cell_type": "code",
   "execution_count": 21,
   "metadata": {},
   "outputs": [
    {
     "data": {
      "text/plain": [
       "<Cell 'Revenue'.A1>"
      ]
     },
     "execution_count": 21,
     "metadata": {},
     "output_type": "execute_result"
    }
   ],
   "source": [
    "sheet_obj['A1']"
   ]
  },
  {
   "cell_type": "code",
   "execution_count": 22,
   "metadata": {},
   "outputs": [
    {
     "data": {
      "text/plain": [
       "'Company'"
      ]
     },
     "execution_count": 22,
     "metadata": {},
     "output_type": "execute_result"
    }
   ],
   "source": [
    "sheet_obj['A1'].value"
   ]
  },
  {
   "cell_type": "code",
   "execution_count": 23,
   "metadata": {},
   "outputs": [],
   "source": [
    "cell = sheet_obj['B1']"
   ]
  },
  {
   "cell_type": "code",
   "execution_count": 24,
   "metadata": {},
   "outputs": [
    {
     "data": {
      "text/plain": [
       "openpyxl.cell.cell.Cell"
      ]
     },
     "execution_count": 24,
     "metadata": {},
     "output_type": "execute_result"
    }
   ],
   "source": [
    "type(cell)"
   ]
  },
  {
   "cell_type": "code",
   "execution_count": 25,
   "metadata": {},
   "outputs": [
    {
     "data": {
      "text/plain": [
       "['__class__',\n",
       " '__delattr__',\n",
       " '__dir__',\n",
       " '__doc__',\n",
       " '__eq__',\n",
       " '__format__',\n",
       " '__ge__',\n",
       " '__getattribute__',\n",
       " '__gt__',\n",
       " '__hash__',\n",
       " '__init__',\n",
       " '__init_subclass__',\n",
       " '__le__',\n",
       " '__lt__',\n",
       " '__module__',\n",
       " '__ne__',\n",
       " '__new__',\n",
       " '__reduce__',\n",
       " '__reduce_ex__',\n",
       " '__repr__',\n",
       " '__setattr__',\n",
       " '__sizeof__',\n",
       " '__slots__',\n",
       " '__str__',\n",
       " '__subclasshook__',\n",
       " '_bind_value',\n",
       " '_comment',\n",
       " '_hyperlink',\n",
       " '_style',\n",
       " '_value',\n",
       " 'alignment',\n",
       " 'base_date',\n",
       " 'border',\n",
       " 'check_error',\n",
       " 'check_string',\n",
       " 'col_idx',\n",
       " 'column',\n",
       " 'column_letter',\n",
       " 'comment',\n",
       " 'coordinate',\n",
       " 'data_type',\n",
       " 'encoding',\n",
       " 'fill',\n",
       " 'font',\n",
       " 'guess_types',\n",
       " 'has_style',\n",
       " 'hyperlink',\n",
       " 'internal_value',\n",
       " 'is_date',\n",
       " 'number_format',\n",
       " 'offset',\n",
       " 'parent',\n",
       " 'pivotButton',\n",
       " 'protection',\n",
       " 'quotePrefix',\n",
       " 'row',\n",
       " 'style',\n",
       " 'style_id',\n",
       " 'value']"
      ]
     },
     "execution_count": 25,
     "metadata": {},
     "output_type": "execute_result"
    }
   ],
   "source": [
    "dir(cell)"
   ]
  },
  {
   "cell_type": "code",
   "execution_count": 26,
   "metadata": {},
   "outputs": [
    {
     "data": {
      "text/plain": [
       "1"
      ]
     },
     "execution_count": 26,
     "metadata": {},
     "output_type": "execute_result"
    }
   ],
   "source": [
    "cell.row"
   ]
  },
  {
   "cell_type": "code",
   "execution_count": 27,
   "metadata": {},
   "outputs": [
    {
     "data": {
      "text/plain": [
       "2"
      ]
     },
     "execution_count": 27,
     "metadata": {},
     "output_type": "execute_result"
    }
   ],
   "source": [
    "cell.column"
   ]
  },
  {
   "cell_type": "code",
   "execution_count": 30,
   "metadata": {},
   "outputs": [],
   "source": [
    "#The colums and rows start in 1 (one)"
   ]
  },
  {
   "cell_type": "markdown",
   "metadata": {},
   "source": [
    "#The Comlums and rows start in one"
   ]
  },
  {
   "cell_type": "raw",
   "metadata": {},
   "source": [
    "#The Colums and rows start in onw"
   ]
  },
  {
   "cell_type": "markdown",
   "metadata": {},
   "source": [
    "# This is a Mark up\n",
    "## with other size"
   ]
  },
  {
   "cell_type": "code",
   "execution_count": 31,
   "metadata": {},
   "outputs": [
    {
     "data": {
      "text/plain": [
       "'Country'"
      ]
     },
     "execution_count": 31,
     "metadata": {},
     "output_type": "execute_result"
    }
   ],
   "source": [
    "cell.value"
   ]
  },
  {
   "cell_type": "code",
   "execution_count": 33,
   "metadata": {},
   "outputs": [
    {
     "data": {
      "text/plain": [
       "'Walmart, based in United States has a arevenue of $ 514 billion'"
      ]
     },
     "execution_count": 33,
     "metadata": {},
     "output_type": "execute_result"
    }
   ],
   "source": [
    "sheet_obj['A2'].value + \\\n",
    "', based in ' + sheet_obj['B2'].value + \\\n",
    "' has a arevenue of $ ' + str(sheet_obj['C2'].value) + \\\n",
    "' billion'"
   ]
  },
  {
   "cell_type": "code",
   "execution_count": 34,
   "metadata": {},
   "outputs": [
    {
     "data": {
      "text/plain": [
       "<Cell 'Revenue'.B1>"
      ]
     },
     "execution_count": 34,
     "metadata": {},
     "output_type": "execute_result"
    }
   ],
   "source": [
    "sheet_obj.cell(row=1, column=2)"
   ]
  },
  {
   "cell_type": "code",
   "execution_count": 35,
   "metadata": {},
   "outputs": [
    {
     "data": {
      "text/plain": [
       "'Country'"
      ]
     },
     "execution_count": 35,
     "metadata": {},
     "output_type": "execute_result"
    }
   ],
   "source": [
    "sheet_obj.cell(row=1, column=2).value"
   ]
  },
  {
   "cell_type": "code",
   "execution_count": 37,
   "metadata": {},
   "outputs": [
    {
     "data": {
      "text/plain": [
       "11"
      ]
     },
     "execution_count": 37,
     "metadata": {},
     "output_type": "execute_result"
    }
   ],
   "source": [
    "sheet_obj.max_row"
   ]
  },
  {
   "cell_type": "code",
   "execution_count": 38,
   "metadata": {},
   "outputs": [
    {
     "data": {
      "text/plain": [
       "3"
      ]
     },
     "execution_count": 38,
     "metadata": {},
     "output_type": "execute_result"
    }
   ],
   "source": [
    "sheet_obj.max_column"
   ]
  },
  {
   "cell_type": "code",
   "execution_count": 40,
   "metadata": {},
   "outputs": [
    {
     "name": "stdout",
     "output_type": "stream",
     "text": [
      "Company\n",
      "Country\n",
      "Revenue (billons $)\n"
     ]
    }
   ],
   "source": [
    "max_col = sheet_obj.max_column\n",
    "\n",
    "for i in range(1,max_col + 1):\n",
    "    cell_obj = sheet_obj.cell(row=1, column=i)\n",
    "    print(cell_obj.value)"
   ]
  },
  {
   "cell_type": "code",
   "execution_count": 41,
   "metadata": {},
   "outputs": [
    {
     "name": "stdout",
     "output_type": "stream",
     "text": [
      "Company\n",
      "Walmart\n",
      "Sinopect Group\n",
      "Royal Dutch Shell\n",
      "China National Petroleum\n",
      "State Grid\n",
      "Saudi Aramco\n",
      "BP\n",
      "Exxon Mobil\n",
      "Volkswagen\n",
      "Toyota Motors\n"
     ]
    }
   ],
   "source": [
    "max_row = sheet_obj.max_row\n",
    "\n",
    "for i in range(1,max_row + 1):\n",
    "    cell_obj = sheet_obj.cell(row=i, column=1)\n",
    "    print(cell_obj.value)"
   ]
  },
  {
   "cell_type": "code",
   "execution_count": 46,
   "metadata": {},
   "outputs": [
    {
     "name": "stdout",
     "output_type": "stream",
     "text": [
      "Company\n",
      "Walmart\n",
      "Sinopect Group\n",
      "Royal Dutch Shell\n",
      "China National Petroleum\n",
      "State Grid\n",
      "Saudi Aramco\n",
      "BP\n",
      "Exxon Mobil\n",
      "Volkswagen\n",
      "Toyota Motors\n",
      "*****\n",
      "Country\n",
      "United States\n",
      "China\n",
      "Netherlans\n",
      "China\n",
      "China\n",
      "Saudi Arabia\n",
      "United Kingdom\n",
      "United States\n",
      "Germany\n",
      "Japan\n",
      "*****\n",
      "Revenue (billons $)\n",
      "514\n",
      "415\n",
      "397\n",
      "393\n",
      "400\n",
      "356\n",
      "103\n",
      "290\n",
      "287\n",
      "273\n",
      "*****\n"
     ]
    }
   ],
   "source": [
    "for i in range(1,max_col + 1):\n",
    "    for j in range(1,max_row + 1):\n",
    "        cell_obj = sheet_obj.cell(row=j, column=i)\n",
    "        print(cell_obj.value)\n",
    "    print('*'*5)"
   ]
  },
  {
   "cell_type": "code",
   "execution_count": 48,
   "metadata": {},
   "outputs": [],
   "source": [
    "obj_cells = sheet_obj['A1':'C2']"
   ]
  },
  {
   "cell_type": "code",
   "execution_count": 51,
   "metadata": {},
   "outputs": [
    {
     "name": "stdout",
     "output_type": "stream",
     "text": [
      "A1 Company\n",
      "B1 Country\n",
      "C1 Revenue (billons $)\n",
      "---------------\n",
      "A2 Walmart\n",
      "B2 United States\n",
      "C2 514\n",
      "---------------\n"
     ]
    }
   ],
   "source": [
    "for rows in sheet_obj['A1':'C2']:\n",
    "    \n",
    "    for cell in rows:\n",
    "        \n",
    "        print(cell.coordinate, cell.value)\n",
    "        \n",
    "    print('-'*15)"
   ]
  },
  {
   "cell_type": "code",
   "execution_count": null,
   "metadata": {},
   "outputs": [],
   "source": []
  }
 ],
 "metadata": {
  "kernelspec": {
   "display_name": "Python 3",
   "language": "python",
   "name": "python3"
  },
  "language_info": {
   "codemirror_mode": {
    "name": "ipython",
    "version": 3
   },
   "file_extension": ".py",
   "mimetype": "text/x-python",
   "name": "python",
   "nbconvert_exporter": "python",
   "pygments_lexer": "ipython3",
   "version": "3.7.4"
  }
 },
 "nbformat": 4,
 "nbformat_minor": 2
}
